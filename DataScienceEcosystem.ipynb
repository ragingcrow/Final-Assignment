{
 "cells": [
  {
   "cell_type": "markdown",
   "id": "1f15b701-b9e5-4b3b-83a5-a4ef0a9335e3",
   "metadata": {},
   "source": [
    "# Data Science Tools and Ecosystem"
   ]
  },
  {
   "cell_type": "markdown",
   "id": "4ef19acf-d8cd-492f-b0c8-bbd9673de1a6",
   "metadata": {},
   "source": [
    "In this notebook, Data Science Tools and Ecosystem are summarized."
   ]
  },
  {
   "cell_type": "markdown",
   "id": "2aa33751-e8b4-4513-a23b-d86a04754e98",
   "metadata": {},
   "source": [
    "**Objectives:**\n",
    "- List popular languages for Data Science\n",
    "- List libraries used by Data Scientists\n",
    "- List Data Science Tools"
   ]
  },
  {
   "cell_type": "markdown",
   "id": "489e7185-a724-45d7-8b0f-6eafcd87c20a",
   "metadata": {},
   "source": [
    "Some of the popular languages that Data Scientists use are:\n",
    "1. Python\n",
    "2. R\n",
    "3. SQL"
   ]
  },
  {
   "cell_type": "markdown",
   "id": "fb22de4b-7a74-46f6-8d8d-d4bb3eed6550",
   "metadata": {},
   "source": [
    "Some of the commonly used libraries used by Data Scientists include:\n",
    "1. Pandas\n",
    "2. NumPy\n",
    "3. SciPy"
   ]
  },
  {
   "cell_type": "markdown",
   "id": "be4976ec-8c4d-4a71-bc2c-17b80f8304dc",
   "metadata": {},
   "source": [
    "|Data Science Tools|\n",
    "|------------------|\n",
    "|Apache Spark|\n",
    "|RStudio|\n",
    "|TensorFlow|"
   ]
  },
  {
   "cell_type": "markdown",
   "id": "0c5a37d2-37b7-4321-a79b-0c73ddb822bc",
   "metadata": {},
   "source": [
    "### Below are a few examples of evaluating arithmetic expressions in Python."
   ]
  },
  {
   "cell_type": "markdown",
   "id": "af082d87-c065-4c8e-b87c-efcca05f3f0d",
   "metadata": {},
   "source": [
    "This is a simple arithmetic expression to multipy then add integers."
   ]
  },
  {
   "cell_type": "code",
   "execution_count": 18,
   "id": "95217d82-a432-4856-b4d6-3b9698637be8",
   "metadata": {},
   "outputs": [
    {
     "data": {
      "text/plain": [
       "17"
      ]
     },
     "execution_count": 18,
     "metadata": {},
     "output_type": "execute_result"
    }
   ],
   "source": [
    "(3*4)+5"
   ]
  },
  {
   "cell_type": "markdown",
   "id": "e980f0f5-108f-4e41-ba04-8e3f5e78d2db",
   "metadata": {},
   "source": [
    "This will convert 200 minutes to hours by dividing by 60."
   ]
  },
  {
   "cell_type": "code",
   "execution_count": 21,
   "id": "570109ff-2835-4493-9e02-eb1ccdb77ebc",
   "metadata": {},
   "outputs": [
    {
     "data": {
      "text/plain": [
       "3.3333333333333335"
      ]
     },
     "execution_count": 21,
     "metadata": {},
     "output_type": "execute_result"
    }
   ],
   "source": [
    "200/60"
   ]
  },
  {
   "cell_type": "markdown",
   "id": "d6148ba6-ed0f-471a-9d22-94fa72620c8e",
   "metadata": {},
   "source": [
    "## Author\n",
    "Emily Lewis"
   ]
  },
  {
   "cell_type": "code",
   "execution_count": null,
   "id": "82470a95-8bd5-4fa2-b38d-0f1c00f9d0e8",
   "metadata": {},
   "outputs": [],
   "source": []
  }
 ],
 "metadata": {
  "kernelspec": {
   "display_name": "Python [conda env:base] *",
   "language": "python",
   "name": "conda-base-py"
  },
  "language_info": {
   "codemirror_mode": {
    "name": "ipython",
    "version": 3
   },
   "file_extension": ".py",
   "mimetype": "text/x-python",
   "name": "python",
   "nbconvert_exporter": "python",
   "pygments_lexer": "ipython3",
   "version": "3.12.7"
  }
 },
 "nbformat": 4,
 "nbformat_minor": 5
}
